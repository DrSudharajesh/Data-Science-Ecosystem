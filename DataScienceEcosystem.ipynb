{
 "cells": [
  {
   "cell_type": "code",
   "execution_count": null,
   "id": "815a793f",
   "metadata": {},
   "outputs": [],
   "source": [
    "#Create a new Jupyter notebook called DataScienceEcosystem.ipynb\n",
    "\n",
    "#Note: The next item in the course will launch JupyterLite with an empty notebook with this name that \n",
    "   # you can use to complete rest of the Exercises. You can also use any other Jupyter notebook environment (e.g. Anaconda) \n",
    "    #that you prefer to complete the assignment.   \n",
    "    "
   ]
  },
  {
   "cell_type": "markdown",
   "id": "e974ed2a",
   "metadata": {},
   "source": [
    "# Data Science Tools and Ecosystem"
   ]
  },
  {
   "cell_type": "markdown",
   "id": "b9bd2253",
   "metadata": {},
   "source": [
    "# Exercise 3 - Create a markdown cell for an introduction. (1 pt)\n",
    "\n",
    "In this notebook, Data Science Tools and Ecosystem are summarized.\n",
    "\n",
    "Objectives:\n",
    "\n",
    "List popular languages that Data Scientists use.\n",
    "List commonly used libraries used by Data Scientists.\n",
    "Comment on Data Science tools."
   ]
  },
  {
   "cell_type": "markdown",
   "id": "26aa97f3",
   "metadata": {},
   "source": [
    "# Exercise 4 - Create a markdown cell to list data science languages. (3 pts)\n",
    "\n",
    "Some of the popular languages that Data Scientists use are:\n",
    "\n",
    "1. Python\n",
    "2. SQL\n",
    "3. R\n",
    "4. VBA (Visual Basic for Applications)\n",
    "5. Julia\n",
    "6. JavaScript\n",
    "7. Java\n",
    "8. Scala\n",
    "9. SAS\n",
    "10. MATLAB\n",
    "11. C/C++\n",
    "12. Swift"
   ]
  },
  {
   "cell_type": "markdown",
   "id": "d1c96324",
   "metadata": {},
   "source": [
    "# Exercise 5 - Create a markdown cell to list data science libraries. (3 pts)\n",
    "\n",
    "Some of the commonly used libraries used by Data Scientists include:\n",
    "\n",
    "NumPy\n",
    "Keras\n",
    "Pandas\n",
    "PyTorch\n",
    "SciPy\n",
    "Scikit-Learn\n",
    "TensorFlow\n",
    "Matplotlib\n",
    "Seaborn\n",
    "Theano\n",
    "openCV\n",
    "Mahotas\n",
    "Pillow\n",
    "SimpleITK\n",
    "Requests\n",
    "Beautiful Soup\n",
    "Selenium\n",
    "ScraPy"
   ]
  },
  {
   "cell_type": "markdown",
   "id": "8e533cd8",
   "metadata": {},
   "source": [
    "# Exercise 6 - Create a markdown cell with a table of Data Science tools. (3 pts)\n",
    "\n",
    "\n",
    "Type of Data Science tool\tData Science Tools\n",
    "    1. General-purpose Tools\t•\tMS Excel\n",
    "    \n",
    "    2. Cloud-based Tools\t    •\tBigML\n",
    "                                •\tGoogle Analytics\n",
    "                                \n",
    "   3. Multipurpose Tools        •\tApache Spark\n",
    "                                •\tMatlab\n",
    "                                •\tSAS\n",
    "                                •\tKNIME\n",
    "                                •\tApache Flink\n",
    "                                \n",
    "   4. Programming Language-driven Tools\t•\tPython\n",
    "                                        •\tR Programming\n",
    "                                        •\tJupyter Notebook\n",
    "                                        •\tMongoDB\n",
    "                                        •\tD3.js\n",
    "                                        •\tJulia\n",
    "                                        \n",
    "   5. Visualization Tools\t            •\tTableau\n",
    "                                        •\tMatplotlib\n",
    "                                        •\tMinitab\n",
    "                                        \n",
    "   6. Machine Learning and NLP Tools    •\tScikit Learn\n",
    "                                        •\tTensorFlow\n",
    "                                        •\tRapidMiner\n",
    "                                        •\tDataRobot\n",
    "                                        •\tNLTK\n",
    "                                        \n",
    "   7. Big Data Tools\t                •\tApache Hadoop\n",
    "\n",
    "   8. Business Intelligence Tool\t    •\tMicrosoft Power BI\n",
    "                                        •\tQlikView\n"
   ]
  },
  {
   "cell_type": "markdown",
   "id": "27ed622b",
   "metadata": {},
   "source": [
    "# Exercise 7 - Create a markdown cell introducing arithmetic expression examples\n",
    "\n",
    "#Add a line in this cell with H3 style heading with text like:"
   ]
  },
  {
   "cell_type": "code",
   "execution_count": 12,
   "id": "85f11d97",
   "metadata": {},
   "outputs": [
    {
     "name": "stdout",
     "output_type": "stream",
     "text": [
      "Enter the A value: 345\n",
      "Enter the B value: 52\n",
      "The sum of the two values is: 397\n"
     ]
    }
   ],
   "source": [
    "# Arithmetic operations\n",
    "A = int(input(\"Enter the A value: \"))\n",
    "B = int(input(\"Enter the B value: \"))\n",
    "c=A+B\n",
    "print(\"The sum of the two values is:\", c)"
   ]
  },
  {
   "cell_type": "code",
   "execution_count": 14,
   "id": "212771b8",
   "metadata": {},
   "outputs": [
    {
     "name": "stdout",
     "output_type": "stream",
     "text": [
      "Enter the A value: 23\n",
      "Enter the B value: 679\n",
      "The sub of the two values is: -656\n"
     ]
    }
   ],
   "source": [
    "# Arithmetic operations\n",
    "A = int(input(\"Enter the A value: \"))\n",
    "B = int(input(\"Enter the B value: \"))\n",
    "C=A - B\n",
    "print(\"The sub of the two values is:\", C)"
   ]
  },
  {
   "cell_type": "code",
   "execution_count": 15,
   "id": "f08979ad",
   "metadata": {},
   "outputs": [
    {
     "name": "stdout",
     "output_type": "stream",
     "text": [
      "Enter the A value: 35\n",
      "Enter the B value: 969\n",
      "The product of the two values is: 33915\n"
     ]
    }
   ],
   "source": [
    "# Arithmetic operations\n",
    "A = int(input(\"Enter the A value: \"))\n",
    "B = int(input(\"Enter the B value: \"))\n",
    "C=A * B\n",
    "print(\"The product of the two values is:\", C)"
   ]
  },
  {
   "cell_type": "code",
   "execution_count": 16,
   "id": "c0683a75",
   "metadata": {},
   "outputs": [
    {
     "name": "stdout",
     "output_type": "stream",
     "text": [
      "Enter the A value: 45\n",
      "Enter the B value: 2\n",
      "The remainder of the two values is: 22.5\n"
     ]
    }
   ],
   "source": [
    "# Arithmetic operations\n",
    "A = int(input(\"Enter the A value: \"))\n",
    "B = int(input(\"Enter the B value: \"))\n",
    "C=A / B\n",
    "print(\"The remainder of the two values is:\", C)"
   ]
  },
  {
   "cell_type": "markdown",
   "id": "81745d0d",
   "metadata": {},
   "source": [
    "# Exercise 8 - Create a code cell to multiply and add numbers\n"
   ]
  },
  {
   "cell_type": "code",
   "execution_count": 19,
   "id": "56930e30",
   "metadata": {},
   "outputs": [
    {
     "name": "stdout",
     "output_type": "stream",
     "text": [
      "17\n"
     ]
    }
   ],
   "source": [
    "#This a simple arithmetic expression to mutiply then add integers\n",
    "print ((3*4)+5)"
   ]
  },
  {
   "cell_type": "markdown",
   "id": "92a69b8e",
   "metadata": {},
   "source": [
    "# # Exercise 9 - Create a code cell to convert minutes to hours"
   ]
  },
  {
   "cell_type": "code",
   "execution_count": 20,
   "id": "80b87275",
   "metadata": {},
   "outputs": [
    {
     "name": "stdout",
     "output_type": "stream",
     "text": [
      "Enter the minutes value: 200\n",
      "The given minutes value is: 200\n",
      "The converted hour value is: 3.3333333333333335\n"
     ]
    }
   ],
   "source": [
    "#write an expression that converts 200 minutes into hours.\n",
    "\n",
    "minutes = int(input(\"Enter the minutes value: \"))\n",
    "hours = minutes / 60\n",
    "print (\"The given minutes value is:\",minutes)\n",
    "print (\"The converted hour value is:\",hours)\n"
   ]
  },
  {
   "cell_type": "markdown",
   "id": "85fdc1c1",
   "metadata": {},
   "source": [
    "# Exercise 10 - Insert a markdown cell to list Objectives\n",
    "\n",
    "Objectives:\n",
    "\n",
    "1. List popular languages that Data Scientists use.\n",
    "2. List commonly used libraries used by Data Scientists.\n",
    "3. Comment on Data Science tools.\n",
    "\n",
    "\n",
    "3 to 5 items covered in this notebook\n",
    "1. Create Code Cells - The core functionality of Jupyter Notebooks is the ability to run code interactively.\n",
    "2. Create Markdown Cells - Jupyter Notebooks support Markdown, a lightweight markup language.\n",
    "3. Learnt Type of Data Science tool\t\n",
    "4. Learnt the various arithmetic operations\n",
    "5. Learnt the data science languages and libraries "
   ]
  },
  {
   "cell_type": "markdown",
   "id": "ea34a90c",
   "metadata": {},
   "source": [
    "# Exercise 11 - Create a markdown cell to indicate the Author's name\n",
    "\n",
    "Author\n",
    "Dr. Sudha Rajesh"
   ]
  }
 ],
 "metadata": {
  "kernelspec": {
   "display_name": "Python 3 (ipykernel)",
   "language": "python",
   "name": "python3"
  },
  "language_info": {
   "codemirror_mode": {
    "name": "ipython",
    "version": 3
   },
   "file_extension": ".py",
   "mimetype": "text/x-python",
   "name": "python",
   "nbconvert_exporter": "python",
   "pygments_lexer": "ipython3",
   "version": "3.9.7"
  }
 },
 "nbformat": 4,
 "nbformat_minor": 5
}
